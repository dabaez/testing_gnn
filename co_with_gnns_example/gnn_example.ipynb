{
 "cells": [
  {
   "cell_type": "markdown",
   "metadata": {},
   "source": [
    "# Combinatorial Optimization with Physics-Inspired Graph Neural Networks"
   ]
  },
  {
   "cell_type": "markdown",
   "metadata": {},
   "source": [
    "In this notebook we show how to solve combinatorial optimization problems with physics-inspired graph neural networks, as outlined in M. J. A. Schuetz, J. K. Brubaker, H. G. Katzgraber, _Combinatorial Optimization with Physics-Inspired Graph Neural Networks_, [arXiv:2107.01188](https://arxiv.org/abs/2107.01188). \n",
    "Here we focus on the canonical maximum independent set (MIS) problem, but our approach can easily be extended to other combinatorial optimization problems. \n",
    "For the actual implementation of the graph neural network we use the open-source ```dgl``` library. \n",
    "\n",
    "Please note we have provided a `requirements.txt` file, which defines the environment required to run this code. Because some of the packages are not available on default OSX conda channels, we have also provided suggested channels to find them on. These can be distilled into a single line as such:\n",
    "\n",
    "> conda create -n \\<environment_name\\> python=3 --file requirements.txt -c conda-forge -c dglteam -c pytorch"
   ]
  },
  {
   "cell_type": "code",
   "execution_count": 1,
   "metadata": {},
   "outputs": [
    {
     "name": "stderr",
     "output_type": "stream",
     "text": [
      "Using backend: pytorch\n"
     ]
    }
   ],
   "source": [
    "import dgl\n",
    "import torch\n",
    "import random\n",
    "import os\n",
    "import numpy as np\n",
    "import networkx as nx\n",
    "import torch.nn as nn\n",
    "import torch.nn.functional as F\n",
    "import matplotlib.pyplot as plt\n",
    "\n",
    "from collections import OrderedDict, defaultdict\n",
    "from dgl.nn.pytorch import GraphConv\n",
    "from itertools import chain, islice, combinations\n",
    "from networkx.algorithms.approximation.independent_set import maximum_independent_set as mis\n",
    "from time import time\n",
    "\n",
    "# MacOS can have issues with MKL. For more details, see\n",
    "# https://stackoverflow.com/questions/53014306/error-15-initializing-libiomp5-dylib-but-found-libiomp5-dylib-already-initial\n",
    "os.environ['KMP_DUPLICATE_LIB_OK'] = 'True'"
   ]
  },
  {
   "cell_type": "code",
   "execution_count": 2,
   "metadata": {},
   "outputs": [
    {
     "name": "stdout",
     "output_type": "stream",
     "text": [
      "Will use device: cpu, torch dtype: torch.float32\n"
     ]
    },
    {
     "name": "stderr",
     "output_type": "stream",
     "text": [
      "/home/aseal/.pyenv/versions/3.8.12/envs/gnns/lib/python3.8/site-packages/torch/cuda/__init__.py:52: UserWarning: CUDA initialization: Found no NVIDIA driver on your system. Please check that you have an NVIDIA GPU and installed a driver from http://www.nvidia.com/Download/index.aspx (Triggered internally at  /pytorch/c10/cuda/CUDAFunctions.cpp:100.)\n",
      "  return torch._C._cuda_getDeviceCount() > 0\n"
     ]
    }
   ],
   "source": [
    "# fix seed to ensure consistent results\n",
    "seed_value = 1\n",
    "random.seed(seed_value)        # seed python RNG\n",
    "np.random.seed(seed_value)     # seed global NumPy RNG\n",
    "torch.manual_seed(seed_value)  # seed torch RNG\n",
    "\n",
    "# Set GPU/CPU\n",
    "TORCH_DEVICE = torch.device('cuda' if torch.cuda.is_available() else 'cpu')\n",
    "TORCH_DTYPE = torch.float32\n",
    "print(f'Will use device: {TORCH_DEVICE}, torch dtype: {TORCH_DTYPE}')"
   ]
  },
  {
   "cell_type": "markdown",
   "metadata": {},
   "source": [
    "# Step 0 - Define utility functions"
   ]
  },
  {
   "cell_type": "markdown",
   "metadata": {},
   "source": [
    "We first load a few general utility functions from ```utils.py``` before defining some helper functions specific to the MIS problem. "
   ]
  },
  {
   "cell_type": "markdown",
   "metadata": {},
   "source": [
    "### General utilities"
   ]
  },
  {
   "cell_type": "code",
   "execution_count": 3,
   "metadata": {},
   "outputs": [],
   "source": [
    "from utils import generate_graph, get_gnn, run_gnn_training, qubo_dict_to_torch, gen_combinations, loss_func"
   ]
  },
  {
   "cell_type": "markdown",
   "metadata": {},
   "source": [
    "### Problem-specific (MIS) utilities"
   ]
  },
  {
   "cell_type": "code",
   "execution_count": 4,
   "metadata": {},
   "outputs": [],
   "source": [
    "# helper function to generate Q matrix for Maximum Independent Set problem (MIS)\n",
    "def gen_q_dict_mis(nx_G, penalty=2):\n",
    "    \"\"\"\n",
    "    Helper function to generate QUBO matrix for MIS as minimization problem.\n",
    "    \n",
    "    Input:\n",
    "        nx_G: graph as networkx graph object (assumed to be unweigthed)\n",
    "    Output:\n",
    "        Q_dic: QUBO as defaultdict\n",
    "    \"\"\"\n",
    "\n",
    "    # Initialize our Q matrix\n",
    "    Q_dic = defaultdict(int)\n",
    "\n",
    "    # Update Q matrix for every edge in the graph\n",
    "    # all off-diagonal terms get penalty\n",
    "    for (u, v) in nx_G.edges:\n",
    "        Q_dic[(u, v)] = penalty\n",
    "\n",
    "    # all diagonal terms get -1\n",
    "    for u in nx_G.nodes:\n",
    "        Q_dic[(u, u)] = -1\n",
    "\n",
    "    return Q_dic\n",
    "\n",
    "\n",
    "# Run classical MIS solver (provided by NetworkX)\n",
    "def run_mis_solver(nx_graph):\n",
    "    \"\"\"\n",
    "    helper function to run traditional solver for MIS.\n",
    "    \n",
    "    Input:\n",
    "        nx_graph: networkx Graph object\n",
    "    Output:\n",
    "        ind_set_bitstring_nx: bitstring solution as list\n",
    "        ind_set_nx_size: size of independent set (int)\n",
    "        number_violations: number of violations of ind.set condition\n",
    "    \"\"\"\n",
    "    # compare with traditional solver\n",
    "    t_start = time()\n",
    "    ind_set_nx = mis(nx_graph)\n",
    "    t_solve = time() - t_start\n",
    "    ind_set_nx_size = len(ind_set_nx)\n",
    "\n",
    "    # get bitstring list\n",
    "    nx_bitstring = [1 if (node in ind_set_nx) else 0 for node in sorted(list(nx_graph.nodes))]\n",
    "    edge_set = set(list(nx_graph.edges))\n",
    "\n",
    "    # Updated to be able to handle larger scale\n",
    "    print('Calculating violations...')\n",
    "    # check for violations\n",
    "    number_violations = 0\n",
    "    for ind_set_chunk in gen_combinations(combinations(ind_set_nx, 2), 100000):\n",
    "        number_violations += len(set(ind_set_chunk).intersection(edge_set))\n",
    "\n",
    "    return nx_bitstring, ind_set_nx_size, number_violations, t_solve\n",
    "\n",
    "\n",
    "# Calculate results given bitstring and graph definition, includes check for violations\n",
    "def postprocess_gnn_mis(best_bitstring, nx_graph):\n",
    "    \"\"\"\n",
    "    helper function to postprocess MIS results\n",
    "\n",
    "    Input:\n",
    "        best_bitstring: bitstring as torch tensor\n",
    "    Output:\n",
    "        size_mis: Size of MIS (int)\n",
    "        ind_set: MIS (list of integers)\n",
    "        number_violations: number of violations of ind.set condition\n",
    "    \"\"\"\n",
    "\n",
    "    # get bitstring as list\n",
    "    bitstring_list = list(best_bitstring)\n",
    "\n",
    "    # compute cost\n",
    "    size_mis = sum(bitstring_list)\n",
    "\n",
    "    # get independent set\n",
    "    ind_set = set([node for node, entry in enumerate(bitstring_list) if entry == 1])\n",
    "    edge_set = set(list(nx_graph.edges))\n",
    "\n",
    "    print('Calculating violations...')\n",
    "    # check for violations\n",
    "    number_violations = 0\n",
    "    for ind_set_chunk in gen_combinations(combinations(ind_set, 2), 100000):\n",
    "        number_violations += len(set(ind_set_chunk).intersection(edge_set))\n",
    "\n",
    "    return size_mis, ind_set, number_violations"
   ]
  },
  {
   "cell_type": "markdown",
   "metadata": {},
   "source": [
    "# Step 1 - Set hyperparameters"
   ]
  },
  {
   "cell_type": "code",
   "execution_count": 5,
   "metadata": {},
   "outputs": [],
   "source": [
    "# Graph hypers\n",
    "n = 1035\n",
    "d = None\n",
    "p = 0.8\n",
    "graph_type = 'prob'\n",
    "\n",
    "# NN learning hypers #\n",
    "number_epochs = int(1e5)\n",
    "learning_rate = 1e-4\n",
    "PROB_THRESHOLD = 0.5\n",
    "\n",
    "# Early stopping to allow NN to train to near-completion\n",
    "tol = 1e-4          # loss must change by more than tol, or trigger\n",
    "patience = 100    # number early stopping triggers before breaking loop\n",
    "\n",
    "# Problem size (e.g. graph size)\n",
    "n = 1035\n",
    "\n",
    "# Establish dim_embedding and hidden_dim values\n",
    "dim_embedding = int(np.sqrt(n))    # e.g. 10\n",
    "hidden_dim = int(dim_embedding/2)  # e.g. 5"
   ]
  },
  {
   "cell_type": "markdown",
   "metadata": {},
   "source": [
    "# Step 2 - Generate random graph"
   ]
  },
  {
   "cell_type": "code",
   "execution_count": 6,
   "metadata": {},
   "outputs": [
    {
     "name": "stdout",
     "output_type": "stream",
     "text": [
      "complement\n"
     ]
    }
   ],
   "source": [
    "def read_graph_file(input_file, complement):\n",
    "    G = nx.Graph()\n",
    "\n",
    "    with open(input_file, 'r') as file:\n",
    "        for line in file:\n",
    "            parts = line.split()\n",
    "\n",
    "            if not parts or parts[0] == 'c':\n",
    "                # Skip comments\n",
    "                continue\n",
    "            elif parts[0] == 'p':\n",
    "                # Graph description line\n",
    "                nodes = int(parts[2])\n",
    "\n",
    "                # Add nodes to the graph\n",
    "                G.add_nodes_from(range(1, nodes + 1))\n",
    "            elif parts[0] == 'e':\n",
    "                # Edge information\n",
    "                node_a = int(parts[1])\n",
    "                node_b = int(parts[2])\n",
    "\n",
    "                G.add_edge(node_a, node_b)\n",
    "\n",
    "    if (complement):\n",
    "        print(\"complement\")\n",
    "        G = nx.complement(G)\n",
    "    G = nx.relabel.convert_node_labels_to_integers(G)\n",
    "    nx_graph = nx.OrderedGraph()\n",
    "    nx_graph.add_nodes_from(sorted(G.nodes()))\n",
    "    nx_graph.add_edges_from(G.edges(data=True))\n",
    "\n",
    "    return G\n",
    "nx_graph = read_graph_file(\"MANN_a45.clq\",1)\n",
    "# get DGL graph from networkx graph, load onto device\n",
    "graph_dgl = dgl.from_networkx(nx_graph=nx_graph)\n",
    "graph_dgl = graph_dgl.to(TORCH_DEVICE)\n",
    "\n",
    "# Construct Q matrix for graph\n",
    "q_torch = qubo_dict_to_torch(nx_graph, gen_q_dict_mis(nx_graph), torch_dtype=TORCH_DTYPE, torch_device=TORCH_DEVICE)"
   ]
  },
  {
   "cell_type": "code",
   "execution_count": 7,
   "metadata": {},
   "outputs": [],
   "source": [
    "# Constructs a random d-regular or p-probabilistic graph\n",
    "# nx_graph = generate_graph(n=n, d=d, p=p, graph_type=graph_type, random_seed=seed_value)\n",
    "# get DGL graph from networkx graph, load onto device\n",
    "# graph_dgl = dgl.from_networkx(nx_graph=nx_graph)\n",
    "# graph_dgl = graph_dgl.to(TORCH_DEVICE)\n",
    "\n",
    "# Construct Q matrix for graph\n",
    "# q_torch = qubo_dict_to_torch(nx_graph, gen_q_dict_mis(nx_graph), torch_dtype=TORCH_DTYPE, torch_device=TORCH_DEVICE)"
   ]
  },
  {
   "cell_type": "code",
   "execution_count": 8,
   "metadata": {},
   "outputs": [
    {
     "ename": "KeyboardInterrupt",
     "evalue": "",
     "output_type": "error",
     "traceback": [
      "\u001b[0;31m---------------------------------------------------------------------------\u001b[0m",
      "\u001b[0;31mKeyboardInterrupt\u001b[0m                         Traceback (most recent call last)",
      "\u001b[1;32m/home/aseal/Documents/mem/co_with_gnns_example/gnn_example.ipynb Cell 16\u001b[0m line \u001b[0;36m2\n\u001b[1;32m      <a href='vscode-notebook-cell:/home/aseal/Documents/mem/co_with_gnns_example/gnn_example.ipynb#X20sZmlsZQ%3D%3D?line=0'>1</a>\u001b[0m \u001b[39m# Visualize graph\u001b[39;00m\n\u001b[0;32m----> <a href='vscode-notebook-cell:/home/aseal/Documents/mem/co_with_gnns_example/gnn_example.ipynb#X20sZmlsZQ%3D%3D?line=1'>2</a>\u001b[0m pos \u001b[39m=\u001b[39m nx\u001b[39m.\u001b[39;49mkamada_kawai_layout(nx_graph)\n\u001b[1;32m      <a href='vscode-notebook-cell:/home/aseal/Documents/mem/co_with_gnns_example/gnn_example.ipynb#X20sZmlsZQ%3D%3D?line=2'>3</a>\u001b[0m nx\u001b[39m.\u001b[39mdraw(nx_graph, pos, with_labels\u001b[39m=\u001b[39m\u001b[39mTrue\u001b[39;00m, node_color\u001b[39m=\u001b[39m[[\u001b[39m.7\u001b[39m, \u001b[39m.7\u001b[39m, \u001b[39m.7\u001b[39m]])\n",
      "File \u001b[0;32m~/.pyenv/versions/3.8.12/envs/gnns/lib/python3.8/site-packages/networkx/drawing/layout.py:724\u001b[0m, in \u001b[0;36mkamada_kawai_layout\u001b[0;34m(G, dist, pos, weight, scale, center, dim)\u001b[0m\n\u001b[1;32m    721\u001b[0m         pos \u001b[39m=\u001b[39m {n: pt \u001b[39mfor\u001b[39;00m n, pt \u001b[39min\u001b[39;00m \u001b[39mzip\u001b[39m(G, np\u001b[39m.\u001b[39mlinspace(\u001b[39m0\u001b[39m, \u001b[39m1\u001b[39m, \u001b[39mlen\u001b[39m(G)))}\n\u001b[1;32m    722\u001b[0m pos_arr \u001b[39m=\u001b[39m np\u001b[39m.\u001b[39marray([pos[n] \u001b[39mfor\u001b[39;00m n \u001b[39min\u001b[39;00m G])\n\u001b[0;32m--> 724\u001b[0m pos \u001b[39m=\u001b[39m _kamada_kawai_solve(dist_mtx, pos_arr, dim)\n\u001b[1;32m    726\u001b[0m pos \u001b[39m=\u001b[39m rescale_layout(pos, scale\u001b[39m=\u001b[39mscale) \u001b[39m+\u001b[39m center\n\u001b[1;32m    727\u001b[0m \u001b[39mreturn\u001b[39;00m \u001b[39mdict\u001b[39m(\u001b[39mzip\u001b[39m(G, pos))\n",
      "File \u001b[0;32m~/.pyenv/versions/3.8.12/envs/gnns/lib/python3.8/site-packages/networkx/drawing/layout.py:741\u001b[0m, in \u001b[0;36m_kamada_kawai_solve\u001b[0;34m(dist_mtx, pos_arr, dim)\u001b[0m\n\u001b[1;32m    738\u001b[0m meanwt \u001b[39m=\u001b[39m \u001b[39m1e-3\u001b[39m\n\u001b[1;32m    739\u001b[0m costargs \u001b[39m=\u001b[39m (np, \u001b[39m1\u001b[39m \u001b[39m/\u001b[39m (dist_mtx \u001b[39m+\u001b[39m np\u001b[39m.\u001b[39meye(dist_mtx\u001b[39m.\u001b[39mshape[\u001b[39m0\u001b[39m]) \u001b[39m*\u001b[39m \u001b[39m1e-3\u001b[39m), meanwt, dim)\n\u001b[0;32m--> 741\u001b[0m optresult \u001b[39m=\u001b[39m minimize(\n\u001b[1;32m    742\u001b[0m     _kamada_kawai_costfn,\n\u001b[1;32m    743\u001b[0m     pos_arr\u001b[39m.\u001b[39;49mravel(),\n\u001b[1;32m    744\u001b[0m     method\u001b[39m=\u001b[39;49m\u001b[39m\"\u001b[39;49m\u001b[39mL-BFGS-B\u001b[39;49m\u001b[39m\"\u001b[39;49m,\n\u001b[1;32m    745\u001b[0m     args\u001b[39m=\u001b[39;49mcostargs,\n\u001b[1;32m    746\u001b[0m     jac\u001b[39m=\u001b[39;49m\u001b[39mTrue\u001b[39;49;00m,\n\u001b[1;32m    747\u001b[0m )\n\u001b[1;32m    749\u001b[0m \u001b[39mreturn\u001b[39;00m optresult\u001b[39m.\u001b[39mx\u001b[39m.\u001b[39mreshape((\u001b[39m-\u001b[39m\u001b[39m1\u001b[39m, dim))\n",
      "File \u001b[0;32m~/.pyenv/versions/3.8.12/envs/gnns/lib/python3.8/site-packages/scipy/optimize/_minimize.py:696\u001b[0m, in \u001b[0;36mminimize\u001b[0;34m(fun, x0, args, method, jac, hess, hessp, bounds, constraints, tol, callback, options)\u001b[0m\n\u001b[1;32m    693\u001b[0m     res \u001b[39m=\u001b[39m _minimize_newtoncg(fun, x0, args, jac, hess, hessp, callback,\n\u001b[1;32m    694\u001b[0m                              \u001b[39m*\u001b[39m\u001b[39m*\u001b[39moptions)\n\u001b[1;32m    695\u001b[0m \u001b[39melif\u001b[39;00m meth \u001b[39m==\u001b[39m \u001b[39m'\u001b[39m\u001b[39ml-bfgs-b\u001b[39m\u001b[39m'\u001b[39m:\n\u001b[0;32m--> 696\u001b[0m     res \u001b[39m=\u001b[39m _minimize_lbfgsb(fun, x0, args, jac, bounds,\n\u001b[1;32m    697\u001b[0m                            callback\u001b[39m=\u001b[39;49mcallback, \u001b[39m*\u001b[39;49m\u001b[39m*\u001b[39;49moptions)\n\u001b[1;32m    698\u001b[0m \u001b[39melif\u001b[39;00m meth \u001b[39m==\u001b[39m \u001b[39m'\u001b[39m\u001b[39mtnc\u001b[39m\u001b[39m'\u001b[39m:\n\u001b[1;32m    699\u001b[0m     res \u001b[39m=\u001b[39m _minimize_tnc(fun, x0, args, jac, bounds, callback\u001b[39m=\u001b[39mcallback,\n\u001b[1;32m    700\u001b[0m                         \u001b[39m*\u001b[39m\u001b[39m*\u001b[39moptions)\n",
      "File \u001b[0;32m~/.pyenv/versions/3.8.12/envs/gnns/lib/python3.8/site-packages/scipy/optimize/_lbfgsb_py.py:359\u001b[0m, in \u001b[0;36m_minimize_lbfgsb\u001b[0;34m(fun, x0, args, jac, bounds, disp, maxcor, ftol, gtol, eps, maxfun, maxiter, iprint, callback, maxls, finite_diff_rel_step, **unknown_options)\u001b[0m\n\u001b[1;32m    353\u001b[0m task_str \u001b[39m=\u001b[39m task\u001b[39m.\u001b[39mtobytes()\n\u001b[1;32m    354\u001b[0m \u001b[39mif\u001b[39;00m task_str\u001b[39m.\u001b[39mstartswith(\u001b[39mb\u001b[39m\u001b[39m'\u001b[39m\u001b[39mFG\u001b[39m\u001b[39m'\u001b[39m):\n\u001b[1;32m    355\u001b[0m     \u001b[39m# The minimization routine wants f and g at the current x.\u001b[39;00m\n\u001b[1;32m    356\u001b[0m     \u001b[39m# Note that interruptions due to maxfun are postponed\u001b[39;00m\n\u001b[1;32m    357\u001b[0m     \u001b[39m# until the completion of the current minimization iteration.\u001b[39;00m\n\u001b[1;32m    358\u001b[0m     \u001b[39m# Overwrite f and g:\u001b[39;00m\n\u001b[0;32m--> 359\u001b[0m     f, g \u001b[39m=\u001b[39m func_and_grad(x)\n\u001b[1;32m    360\u001b[0m \u001b[39melif\u001b[39;00m task_str\u001b[39m.\u001b[39mstartswith(\u001b[39mb\u001b[39m\u001b[39m'\u001b[39m\u001b[39mNEW_X\u001b[39m\u001b[39m'\u001b[39m):\n\u001b[1;32m    361\u001b[0m     \u001b[39m# new iteration\u001b[39;00m\n\u001b[1;32m    362\u001b[0m     n_iterations \u001b[39m+\u001b[39m\u001b[39m=\u001b[39m \u001b[39m1\u001b[39m\n",
      "File \u001b[0;32m~/.pyenv/versions/3.8.12/envs/gnns/lib/python3.8/site-packages/scipy/optimize/_differentiable_functions.py:285\u001b[0m, in \u001b[0;36mScalarFunction.fun_and_grad\u001b[0;34m(self, x)\u001b[0m\n\u001b[1;32m    283\u001b[0m \u001b[39mif\u001b[39;00m \u001b[39mnot\u001b[39;00m np\u001b[39m.\u001b[39marray_equal(x, \u001b[39mself\u001b[39m\u001b[39m.\u001b[39mx):\n\u001b[1;32m    284\u001b[0m     \u001b[39mself\u001b[39m\u001b[39m.\u001b[39m_update_x_impl(x)\n\u001b[0;32m--> 285\u001b[0m \u001b[39mself\u001b[39;49m\u001b[39m.\u001b[39;49m_update_fun()\n\u001b[1;32m    286\u001b[0m \u001b[39mself\u001b[39m\u001b[39m.\u001b[39m_update_grad()\n\u001b[1;32m    287\u001b[0m \u001b[39mreturn\u001b[39;00m \u001b[39mself\u001b[39m\u001b[39m.\u001b[39mf, \u001b[39mself\u001b[39m\u001b[39m.\u001b[39mg\n",
      "File \u001b[0;32m~/.pyenv/versions/3.8.12/envs/gnns/lib/python3.8/site-packages/scipy/optimize/_differentiable_functions.py:251\u001b[0m, in \u001b[0;36mScalarFunction._update_fun\u001b[0;34m(self)\u001b[0m\n\u001b[1;32m    249\u001b[0m \u001b[39mdef\u001b[39;00m \u001b[39m_update_fun\u001b[39m(\u001b[39mself\u001b[39m):\n\u001b[1;32m    250\u001b[0m     \u001b[39mif\u001b[39;00m \u001b[39mnot\u001b[39;00m \u001b[39mself\u001b[39m\u001b[39m.\u001b[39mf_updated:\n\u001b[0;32m--> 251\u001b[0m         \u001b[39mself\u001b[39;49m\u001b[39m.\u001b[39;49m_update_fun_impl()\n\u001b[1;32m    252\u001b[0m         \u001b[39mself\u001b[39m\u001b[39m.\u001b[39mf_updated \u001b[39m=\u001b[39m \u001b[39mTrue\u001b[39;00m\n",
      "File \u001b[0;32m~/.pyenv/versions/3.8.12/envs/gnns/lib/python3.8/site-packages/scipy/optimize/_differentiable_functions.py:155\u001b[0m, in \u001b[0;36mScalarFunction.__init__.<locals>.update_fun\u001b[0;34m()\u001b[0m\n\u001b[1;32m    154\u001b[0m \u001b[39mdef\u001b[39;00m \u001b[39mupdate_fun\u001b[39m():\n\u001b[0;32m--> 155\u001b[0m     \u001b[39mself\u001b[39m\u001b[39m.\u001b[39mf \u001b[39m=\u001b[39m fun_wrapped(\u001b[39mself\u001b[39;49m\u001b[39m.\u001b[39;49mx)\n",
      "File \u001b[0;32m~/.pyenv/versions/3.8.12/envs/gnns/lib/python3.8/site-packages/scipy/optimize/_differentiable_functions.py:137\u001b[0m, in \u001b[0;36mScalarFunction.__init__.<locals>.fun_wrapped\u001b[0;34m(x)\u001b[0m\n\u001b[1;32m    133\u001b[0m \u001b[39mself\u001b[39m\u001b[39m.\u001b[39mnfev \u001b[39m+\u001b[39m\u001b[39m=\u001b[39m \u001b[39m1\u001b[39m\n\u001b[1;32m    134\u001b[0m \u001b[39m# Send a copy because the user may overwrite it.\u001b[39;00m\n\u001b[1;32m    135\u001b[0m \u001b[39m# Overwriting results in undefined behaviour because\u001b[39;00m\n\u001b[1;32m    136\u001b[0m \u001b[39m# fun(self.x) will change self.x, with the two no longer linked.\u001b[39;00m\n\u001b[0;32m--> 137\u001b[0m fx \u001b[39m=\u001b[39m fun(np\u001b[39m.\u001b[39;49mcopy(x), \u001b[39m*\u001b[39;49margs)\n\u001b[1;32m    138\u001b[0m \u001b[39m# Make sure the function returns a true scalar\u001b[39;00m\n\u001b[1;32m    139\u001b[0m \u001b[39mif\u001b[39;00m \u001b[39mnot\u001b[39;00m np\u001b[39m.\u001b[39misscalar(fx):\n",
      "File \u001b[0;32m~/.pyenv/versions/3.8.12/envs/gnns/lib/python3.8/site-packages/scipy/optimize/_optimize.py:76\u001b[0m, in \u001b[0;36mMemoizeJac.__call__\u001b[0;34m(self, x, *args)\u001b[0m\n\u001b[1;32m     74\u001b[0m \u001b[39mdef\u001b[39;00m \u001b[39m__call__\u001b[39m(\u001b[39mself\u001b[39m, x, \u001b[39m*\u001b[39margs):\n\u001b[1;32m     75\u001b[0m \u001b[39m    \u001b[39m\u001b[39m\"\"\" returns the function value \"\"\"\u001b[39;00m\n\u001b[0;32m---> 76\u001b[0m     \u001b[39mself\u001b[39;49m\u001b[39m.\u001b[39;49m_compute_if_needed(x, \u001b[39m*\u001b[39;49margs)\n\u001b[1;32m     77\u001b[0m     \u001b[39mreturn\u001b[39;00m \u001b[39mself\u001b[39m\u001b[39m.\u001b[39m_value\n",
      "File \u001b[0;32m~/.pyenv/versions/3.8.12/envs/gnns/lib/python3.8/site-packages/scipy/optimize/_optimize.py:70\u001b[0m, in \u001b[0;36mMemoizeJac._compute_if_needed\u001b[0;34m(self, x, *args)\u001b[0m\n\u001b[1;32m     68\u001b[0m \u001b[39mif\u001b[39;00m \u001b[39mnot\u001b[39;00m np\u001b[39m.\u001b[39mall(x \u001b[39m==\u001b[39m \u001b[39mself\u001b[39m\u001b[39m.\u001b[39mx) \u001b[39mor\u001b[39;00m \u001b[39mself\u001b[39m\u001b[39m.\u001b[39m_value \u001b[39mis\u001b[39;00m \u001b[39mNone\u001b[39;00m \u001b[39mor\u001b[39;00m \u001b[39mself\u001b[39m\u001b[39m.\u001b[39mjac \u001b[39mis\u001b[39;00m \u001b[39mNone\u001b[39;00m:\n\u001b[1;32m     69\u001b[0m     \u001b[39mself\u001b[39m\u001b[39m.\u001b[39mx \u001b[39m=\u001b[39m np\u001b[39m.\u001b[39masarray(x)\u001b[39m.\u001b[39mcopy()\n\u001b[0;32m---> 70\u001b[0m     fg \u001b[39m=\u001b[39m \u001b[39mself\u001b[39;49m\u001b[39m.\u001b[39;49mfun(x, \u001b[39m*\u001b[39;49margs)\n\u001b[1;32m     71\u001b[0m     \u001b[39mself\u001b[39m\u001b[39m.\u001b[39mjac \u001b[39m=\u001b[39m fg[\u001b[39m1\u001b[39m]\n\u001b[1;32m     72\u001b[0m     \u001b[39mself\u001b[39m\u001b[39m.\u001b[39m_value \u001b[39m=\u001b[39m fg[\u001b[39m0\u001b[39m]\n",
      "File \u001b[0;32m~/.pyenv/versions/3.8.12/envs/gnns/lib/python3.8/site-packages/networkx/drawing/layout.py:765\u001b[0m, in \u001b[0;36m_kamada_kawai_costfn\u001b[0;34m(pos_vec, np, invdist, meanweight, dim)\u001b[0m\n\u001b[1;32m    762\u001b[0m offset[np\u001b[39m.\u001b[39mdiag_indices(nNodes)] \u001b[39m=\u001b[39m \u001b[39m0\u001b[39m\n\u001b[1;32m    764\u001b[0m cost \u001b[39m=\u001b[39m \u001b[39m0.5\u001b[39m \u001b[39m*\u001b[39m np\u001b[39m.\u001b[39msum(offset \u001b[39m*\u001b[39m\u001b[39m*\u001b[39m \u001b[39m2\u001b[39m)\n\u001b[0;32m--> 765\u001b[0m grad \u001b[39m=\u001b[39m np\u001b[39m.\u001b[39;49meinsum(\u001b[39m\"\u001b[39;49m\u001b[39mij,ij,ijk->ik\u001b[39;49m\u001b[39m\"\u001b[39;49m, invdist, offset, direction) \u001b[39m-\u001b[39m np\u001b[39m.\u001b[39meinsum(\n\u001b[1;32m    766\u001b[0m     \u001b[39m\"\u001b[39m\u001b[39mij,ij,ijk->jk\u001b[39m\u001b[39m\"\u001b[39m, invdist, offset, direction\n\u001b[1;32m    767\u001b[0m )\n\u001b[1;32m    769\u001b[0m \u001b[39m# Additional parabolic term to encourage mean position to be near origin:\u001b[39;00m\n\u001b[1;32m    770\u001b[0m sumpos \u001b[39m=\u001b[39m np\u001b[39m.\u001b[39msum(pos_arr, axis\u001b[39m=\u001b[39m\u001b[39m0\u001b[39m)\n",
      "File \u001b[0;32m<__array_function__ internals>:5\u001b[0m, in \u001b[0;36meinsum\u001b[0;34m(*args, **kwargs)\u001b[0m\n",
      "File \u001b[0;32m~/.pyenv/versions/3.8.12/envs/gnns/lib/python3.8/site-packages/numpy/core/einsumfunc.py:1350\u001b[0m, in \u001b[0;36meinsum\u001b[0;34m(out, optimize, *operands, **kwargs)\u001b[0m\n\u001b[1;32m   1348\u001b[0m     \u001b[39mif\u001b[39;00m specified_out:\n\u001b[1;32m   1349\u001b[0m         kwargs[\u001b[39m'\u001b[39m\u001b[39mout\u001b[39m\u001b[39m'\u001b[39m] \u001b[39m=\u001b[39m out\n\u001b[0;32m-> 1350\u001b[0m     \u001b[39mreturn\u001b[39;00m c_einsum(\u001b[39m*\u001b[39;49moperands, \u001b[39m*\u001b[39;49m\u001b[39m*\u001b[39;49mkwargs)\n\u001b[1;32m   1352\u001b[0m \u001b[39m# Check the kwargs to avoid a more cryptic error later, without having to\u001b[39;00m\n\u001b[1;32m   1353\u001b[0m \u001b[39m# repeat default values here\u001b[39;00m\n\u001b[1;32m   1354\u001b[0m valid_einsum_kwargs \u001b[39m=\u001b[39m [\u001b[39m'\u001b[39m\u001b[39mdtype\u001b[39m\u001b[39m'\u001b[39m, \u001b[39m'\u001b[39m\u001b[39morder\u001b[39m\u001b[39m'\u001b[39m, \u001b[39m'\u001b[39m\u001b[39mcasting\u001b[39m\u001b[39m'\u001b[39m]\n",
      "\u001b[0;31mKeyboardInterrupt\u001b[0m: "
     ]
    }
   ],
   "source": [
    "# Visualize graph\n",
    "pos = nx.kamada_kawai_layout(nx_graph)\n",
    "nx.draw(nx_graph, pos, with_labels=True, node_color=[[.7, .7, .7]])"
   ]
  },
  {
   "cell_type": "markdown",
   "metadata": {},
   "source": [
    "# Step 3 - Set up optimizer/GNN architecture"
   ]
  },
  {
   "cell_type": "code",
   "execution_count": 9,
   "metadata": {},
   "outputs": [],
   "source": [
    "# Establish pytorch GNN + optimizer\n",
    "opt_params = {'lr': learning_rate}\n",
    "gnn_hypers = {\n",
    "    'dim_embedding': dim_embedding,\n",
    "    'hidden_dim': hidden_dim,\n",
    "    'dropout': 0.0,\n",
    "    'number_classes': 1,\n",
    "    'prob_threshold': PROB_THRESHOLD,\n",
    "    'number_epochs': number_epochs,\n",
    "    'tolerance': tol,\n",
    "    'patience': patience\n",
    "}\n",
    "\n",
    "net, embed, optimizer = get_gnn(n, gnn_hypers, opt_params, TORCH_DEVICE, TORCH_DTYPE)\n",
    "\n",
    "# For tracking hyperparameters in results object\n",
    "gnn_hypers.update(opt_params)"
   ]
  },
  {
   "cell_type": "markdown",
   "metadata": {},
   "source": [
    "# Step 4 - Run GNN training"
   ]
  },
  {
   "cell_type": "code",
   "execution_count": 10,
   "metadata": {
    "scrolled": true
   },
   "outputs": [
    {
     "name": "stdout",
     "output_type": "stream",
     "text": [
      "Running GNN...\n",
      "Epoch: 0, Loss: 285.96978759765625\n"
     ]
    },
    {
     "name": "stdout",
     "output_type": "stream",
     "text": [
      "Epoch: 1000, Loss: 36.435306549072266\n",
      "Epoch: 2000, Loss: 8.164717674255371\n",
      "Epoch: 3000, Loss: 2.08001708984375\n",
      "Epoch: 4000, Loss: 0.2955349087715149\n",
      "Epoch: 5000, Loss: -1.592435359954834\n",
      "Epoch: 6000, Loss: -10.814123153686523\n",
      "Epoch: 7000, Loss: -92.29948425292969\n",
      "Epoch: 8000, Loss: -138.23797607421875\n",
      "Epoch: 9000, Loss: -156.23077392578125\n",
      "Epoch: 10000, Loss: -160.96728515625\n",
      "Epoch: 11000, Loss: -161.57638549804688\n",
      "Epoch: 12000, Loss: -161.79678344726562\n",
      "Epoch: 13000, Loss: -161.89608764648438\n",
      "Stopping early on epoch 13167 (patience: 100)\n",
      "GNN training (n=1035) took 125.28\n",
      "GNN final continuous loss: -161.90673828125\n",
      "GNN best continuous loss: -161.90673828125\n"
     ]
    }
   ],
   "source": [
    "print('Running GNN...')\n",
    "gnn_start = time()\n",
    "\n",
    "_, epoch, final_bitstring, best_bitstring = run_gnn_training(\n",
    "    q_torch, graph_dgl, net, embed, optimizer, gnn_hypers['number_epochs'],\n",
    "    gnn_hypers['tolerance'], gnn_hypers['patience'], gnn_hypers['prob_threshold'])\n",
    "\n",
    "gnn_time = time() - gnn_start"
   ]
  },
  {
   "cell_type": "markdown",
   "metadata": {},
   "source": [
    "# Step 5 - Post-process GNN results"
   ]
  },
  {
   "cell_type": "code",
   "execution_count": 11,
   "metadata": {},
   "outputs": [
    {
     "name": "stdout",
     "output_type": "stream",
     "text": [
      "tensor([0, 0, 0,  ..., 0, 0, 1])\n",
      "Calculating violations...\n",
      "Independence number found by GNN is 162 with 0 violations\n",
      "Took 125.529s, model training took 125.285s\n"
     ]
    }
   ],
   "source": [
    "final_loss = loss_func(final_bitstring.float(), q_torch)\n",
    "final_bitstring_str = ','.join([str(x) for x in final_bitstring])\n",
    "\n",
    "print(best_bitstring)\n",
    "\n",
    "# Process bitstring reported by GNN\n",
    "size_mis, ind_set, number_violations = postprocess_gnn_mis(best_bitstring, nx_graph)\n",
    "gnn_tot_time = time() - gnn_start\n",
    "\n",
    "print(f'Independence number found by GNN is {size_mis} with {number_violations} violations')\n",
    "print(f'Took {round(gnn_tot_time, 3)}s, model training took {round(gnn_time, 3)}s')"
   ]
  },
  {
   "cell_type": "code",
   "execution_count": 12,
   "metadata": {},
   "outputs": [
    {
     "ename": "NameError",
     "evalue": "name 'pos' is not defined",
     "output_type": "error",
     "traceback": [
      "\u001b[0;31m---------------------------------------------------------------------------\u001b[0m",
      "\u001b[0;31mNameError\u001b[0m                                 Traceback (most recent call last)",
      "\u001b[1;32m/home/aseal/Documents/mem/co_with_gnns_example/gnn_example.ipynb Cell 23\u001b[0m line \u001b[0;36m4\n\u001b[1;32m      <a href='vscode-notebook-cell:/home/aseal/Documents/mem/co_with_gnns_example/gnn_example.ipynb#X30sZmlsZQ%3D%3D?line=0'>1</a>\u001b[0m \u001b[39m# Visualize result\u001b[39;00m\n\u001b[1;32m      <a href='vscode-notebook-cell:/home/aseal/Documents/mem/co_with_gnns_example/gnn_example.ipynb#X30sZmlsZQ%3D%3D?line=1'>2</a>\u001b[0m \u001b[39m# Note no light-blue nodes are connected by an edge\u001b[39;00m\n\u001b[1;32m      <a href='vscode-notebook-cell:/home/aseal/Documents/mem/co_with_gnns_example/gnn_example.ipynb#X30sZmlsZQ%3D%3D?line=2'>3</a>\u001b[0m color_map \u001b[39m=\u001b[39m [\u001b[39m'\u001b[39m\u001b[39morange\u001b[39m\u001b[39m'\u001b[39m \u001b[39mif\u001b[39;00m (best_bitstring[node]\u001b[39m==\u001b[39m\u001b[39m0\u001b[39m) \u001b[39melse\u001b[39;00m \u001b[39m'\u001b[39m\u001b[39mlightblue\u001b[39m\u001b[39m'\u001b[39m \u001b[39mfor\u001b[39;00m node \u001b[39min\u001b[39;00m nx_graph\u001b[39m.\u001b[39mnodes]\n\u001b[0;32m----> <a href='vscode-notebook-cell:/home/aseal/Documents/mem/co_with_gnns_example/gnn_example.ipynb#X30sZmlsZQ%3D%3D?line=3'>4</a>\u001b[0m nx\u001b[39m.\u001b[39mdraw(nx_graph, pos, with_labels\u001b[39m=\u001b[39m\u001b[39mTrue\u001b[39;00m, node_color\u001b[39m=\u001b[39mcolor_map)\n",
      "\u001b[0;31mNameError\u001b[0m: name 'pos' is not defined"
     ]
    }
   ],
   "source": [
    "# Visualize result\n",
    "# Note no light-blue nodes are connected by an edge\n",
    "color_map = ['orange' if (best_bitstring[node]==0) else 'lightblue' for node in nx_graph.nodes]\n",
    "nx.draw(nx_graph, pos, with_labels=True, node_color=color_map)"
   ]
  },
  {
   "cell_type": "markdown",
   "metadata": {},
   "source": [
    "# Step 6 - (optional) Compare to classical solver"
   ]
  },
  {
   "cell_type": "code",
   "execution_count": 13,
   "metadata": {},
   "outputs": [
    {
     "name": "stdout",
     "output_type": "stream",
     "text": [
      "Running built-in MIS solver (n=1035).\n"
     ]
    },
    {
     "name": "stdout",
     "output_type": "stream",
     "text": [
      "Calculating violations...\n",
      "Independence number found by nx solver is 276 with 0 violations.\n",
      "MIS solver took 318.962s\n"
     ]
    }
   ],
   "source": [
    "# run solver\n",
    "print(f'Running built-in MIS solver (n={n}).')\n",
    "start = time()\n",
    "ind_set_bitstring_nx, ind_set_nx_size, nx_number_violations, t_solve = run_mis_solver(nx_graph)\n",
    "end = time()\n",
    "runtime_sol = end - start\n",
    "print(f'Independence number found by nx solver is {ind_set_nx_size} with {nx_number_violations} violations.')\n",
    "print(f'MIS solver took {round(runtime_sol, 3)}s')"
   ]
  }
 ],
 "metadata": {
  "kernelspec": {
   "display_name": "env",
   "language": "python",
   "name": "python3"
  },
  "language_info": {
   "codemirror_mode": {
    "name": "ipython",
    "version": 3
   },
   "file_extension": ".py",
   "mimetype": "text/x-python",
   "name": "python",
   "nbconvert_exporter": "python",
   "pygments_lexer": "ipython3",
   "version": "3.8.12"
  }
 },
 "nbformat": 4,
 "nbformat_minor": 4
}
